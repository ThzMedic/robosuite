{
 "cells": [
  {
   "cell_type": "code",
   "execution_count": 8,
   "metadata": {},
   "outputs": [
    {
     "name": "stderr",
     "output_type": "stream",
     "text": [
      "\u001b[1m\u001b[32m[robosuite INFO] \u001b[0mLoading controller configuration from: /home/ckong35/workspaces/robosuite/robosuite/controllers/config/default/composite/basic.json (composite_controller_factory.py:121)\n",
      "\u001b[1m\u001b[33m[robosuite WARNING] \u001b[0mThe config has defined for the controller \"left\", but the robot does not have this component. Skipping, but make sure this is intended.Removing the controller config for left from self.part_controller_config. (robot.py:151)\n",
      "\u001b[1m\u001b[33m[robosuite WARNING] \u001b[0mThe config has defined for the controller \"head\", but the robot does not have this component. Skipping, but make sure this is intended.Removing the controller config for head from self.part_controller_config. (robot.py:151)\n",
      "\u001b[1m\u001b[33m[robosuite WARNING] \u001b[0mThe config has defined for the controller \"legs\", but the robot does not have this component. Skipping, but make sure this is intended.Removing the controller config for legs from self.part_controller_config. (robot.py:151)\n",
      "\u001b[1m\u001b[33m[robosuite WARNING] \u001b[0mThe config has defined for the controller \"left\", but the robot does not have this component. Skipping, but make sure this is intended.Removing the controller config for left from self.part_controller_config. (robot.py:151)\n",
      "\u001b[1m\u001b[33m[robosuite WARNING] \u001b[0mThe config has defined for the controller \"head\", but the robot does not have this component. Skipping, but make sure this is intended.Removing the controller config for head from self.part_controller_config. (robot.py:151)\n",
      "\u001b[1m\u001b[33m[robosuite WARNING] \u001b[0mThe config has defined for the controller \"legs\", but the robot does not have this component. Skipping, but make sure this is intended.Removing the controller config for legs from self.part_controller_config. (robot.py:151)\n"
     ]
    }
   ],
   "source": [
    "from robosuite.robots import register_robot_class\n",
    "from robosuite.models.robots import Kinova3\n",
    "import robosuite as suite\n",
    "from robosuite.controllers import load_composite_controller_config\n",
    "import mujoco\n",
    "\n",
    "@register_robot_class(\"WheeledRobot\")\n",
    "class MobileKinova(Kinova3):\n",
    "    @property # the property alwasys return the string \"OmronMobileBase\" and can be called without parentheses\n",
    "    def default_base(self):\n",
    "        return \"OmronMobileBase\"\n",
    "\n",
    "    # @property\n",
    "    # def default_arms(self):\n",
    "    #     return {\"right\": \"Kinova3\"}\n",
    "\n",
    "# Create environment\n",
    "env = suite.make(\n",
    "    env_name=\"Lift\",\n",
    "    robots=\"MobileKinova\",\n",
    "    controller_configs=load_composite_controller_config(controller=\"BASIC\"),\n",
    "    has_renderer=True,\n",
    "    has_offscreen_renderer=False,\n",
    "    render_camera=\"agentview\",\n",
    "    use_camera_obs=False,\n",
    "    control_freq=20,\n",
    ")\n",
    "\n",
    "# Run the simulation, and visualize it\n",
    "env.reset()\n",
    "mujoco.viewer.launch(env.sim.model._model, env.sim.data._data)"
   ]
  },
  {
   "cell_type": "code",
   "execution_count": 7,
   "metadata": {},
   "outputs": [
    {
     "name": "stderr",
     "output_type": "stream",
     "text": [
      "\u001b[1m\u001b[32m[robosuite INFO] \u001b[0mLoading controller configuration from: /home/ckong35/workspaces/robosuite/robosuite/controllers/config/default/composite/basic.json (composite_controller_factory.py:121)\n",
      "\u001b[1m\u001b[33m[robosuite WARNING] \u001b[0mThe config has defined for the controller \"head\", but the robot does not have this component. Skipping, but make sure this is intended.Removing the controller config for head from self.part_controller_config. (robot.py:151)\n",
      "\u001b[1m\u001b[33m[robosuite WARNING] \u001b[0mThe config has defined for the controller \"legs\", but the robot does not have this component. Skipping, but make sure this is intended.Removing the controller config for legs from self.part_controller_config. (robot.py:151)\n",
      "\u001b[1m\u001b[33m[robosuite WARNING] \u001b[0mThe config has defined for the controller \"head\", but the robot does not have this component. Skipping, but make sure this is intended.Removing the controller config for head from self.part_controller_config. (robot.py:151)\n",
      "\u001b[1m\u001b[33m[robosuite WARNING] \u001b[0mThe config has defined for the controller \"legs\", but the robot does not have this component. Skipping, but make sure this is intended.Removing the controller config for legs from self.part_controller_config. (robot.py:151)\n"
     ]
    }
   ],
   "source": [
    "from robosuite.robots import register_robot_class\n",
    "from robosuite_models.robots import Yumi\n",
    "import robosuite as suite\n",
    "from robosuite.controllers import load_composite_controller_config\n",
    "import mujoco\n",
    "\n",
    "@register_robot_class(\"WheeledRobot\")\n",
    "class MobileYumi(Yumi):\n",
    "    @property # the property alwasys return the string \"OmronMobileBase\" and can be called without parentheses\n",
    "    def default_base(self):\n",
    "        return \"OmronMobileBase\"\n",
    "\n",
    "    # def set_base_xpos(self, xpos):\n",
    "    #     # Convert tuple to list to modify it\n",
    "    #     xpos = list(xpos)\n",
    "    #     # Move the base 0.3 meters above the current location\n",
    "    #     xpos[2] += 0.3\n",
    "    #     # Convert back to tuple if necessary\n",
    "    #     xpos = tuple(xpos)\n",
    "    #     super().set_base_xpos(xpos)\n",
    "\n",
    "\n",
    "# Create environment\n",
    "env = suite.make(\n",
    "    env_name=\"Lift\",\n",
    "    robots=\"MobileYumi\",\n",
    "    controller_configs=load_composite_controller_config(controller=\"BASIC\"),\n",
    "    has_renderer=True,\n",
    "    has_offscreen_renderer=False,\n",
    "    render_camera=\"agentview\",\n",
    "    use_camera_obs=False,\n",
    "    control_freq=20,\n",
    ")\n",
    "\n",
    "# Run the simulation, and visualize it\n",
    "env.reset()\n",
    "mujoco.viewer.launch(env.sim.model._model, env.sim.data._data)"
   ]
  },
  {
   "cell_type": "code",
   "execution_count": 14,
   "metadata": {},
   "outputs": [
    {
     "name": "stderr",
     "output_type": "stream",
     "text": [
      "\u001b[1m\u001b[32m[robosuite INFO] \u001b[0mLoading controller configuration from: /home/ckong35/workspaces/robosuite/robosuite/controllers/config/default/composite/basic.json (composite_controller_factory.py:121)\n",
      "\u001b[1m\u001b[33m[robosuite WARNING] \u001b[0mThe config has defined for the controller \"head\", but the robot does not have this component. Skipping, but make sure this is intended.Removing the controller config for head from self.part_controller_config. (robot.py:151)\n",
      "\u001b[1m\u001b[33m[robosuite WARNING] \u001b[0mThe config has defined for the controller \"legs\", but the robot does not have this component. Skipping, but make sure this is intended.Removing the controller config for legs from self.part_controller_config. (robot.py:151)\n",
      "\u001b[1m\u001b[33m[robosuite WARNING] \u001b[0mThe config has defined for the controller \"head\", but the robot does not have this component. Skipping, but make sure this is intended.Removing the controller config for head from self.part_controller_config. (robot.py:151)\n",
      "\u001b[1m\u001b[33m[robosuite WARNING] \u001b[0mThe config has defined for the controller \"legs\", but the robot does not have this component. Skipping, but make sure this is intended.Removing the controller config for legs from self.part_controller_config. (robot.py:151)\n"
     ]
    }
   ],
   "source": [
    "from robosuite.robots import register_robot_class\n",
    "from robosuite.models.robots import DualKinova3\n",
    "import robosuite as suite\n",
    "from robosuite.controllers import load_composite_controller_config\n",
    "import mujoco\n",
    "\n",
    "@register_robot_class(\"WheeledRobot\")\n",
    "class MobileKinova(DualKinova3):\n",
    "    @property # the property alwasys return the string \"OmronMobileBase\" and can be called without parentheses\n",
    "    def default_base(self):\n",
    "        return \"OmronMobileBase\"\n",
    "\n",
    "\n",
    "# Create environment\n",
    "env = suite.make(\n",
    "    env_name=\"Lift\",\n",
    "    # robots=\"MobileKinova\",\n",
    "    robots=\"DualKinova3\",\n",
    "    controller_configs=load_composite_controller_config(controller=\"BASIC\"),\n",
    "    has_renderer=True,\n",
    "    has_offscreen_renderer=False,\n",
    "    render_camera=\"frontview\",\n",
    "    use_camera_obs=False,\n",
    "    control_freq=20,\n",
    ")\n",
    "\n",
    "# Run the simulation, and visualize it\n",
    "env.reset()\n",
    "mujoco.viewer.launch(env.sim.model._model, env.sim.data._data)"
   ]
  },
  {
   "cell_type": "markdown",
   "metadata": {},
   "source": [
    "The file of the vention base has been centered and converted to STL, tomorrow will include it into the xml file. Might want to investigate why the addition of mobile base is bad all fixed"
   ]
  }
 ],
 "metadata": {
  "kernelspec": {
   "display_name": ".venv",
   "language": "python",
   "name": "python3"
  },
  "language_info": {
   "codemirror_mode": {
    "name": "ipython",
    "version": 3
   },
   "file_extension": ".py",
   "mimetype": "text/x-python",
   "name": "python",
   "nbconvert_exporter": "python",
   "pygments_lexer": "ipython3",
   "version": "3.10.12"
  }
 },
 "nbformat": 4,
 "nbformat_minor": 2
}
